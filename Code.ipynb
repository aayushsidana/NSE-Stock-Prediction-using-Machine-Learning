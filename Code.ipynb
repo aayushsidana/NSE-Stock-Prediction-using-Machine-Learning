{
 "cells": [
  {
   "cell_type": "code",
   "execution_count": 5,
   "id": "443d80f3",
   "metadata": {},
   "outputs": [],
   "source": [
    "# pip install -r requirements.txt\n"
   ]
  },
  {
   "cell_type": "code",
   "execution_count": 6,
   "id": "a5c23320",
   "metadata": {},
   "outputs": [
    {
     "name": "stdout",
     "output_type": "stream",
     "text": [
      "Saved: data\\nse_HDFCBANK_NS_features.csv  | rows=2613 cols=18\n"
     ]
    }
   ],
   "source": [
    "%run prepare_nse_data.py --ticker HDFCBANK.NS --start 2015-01-01 --end 2025-09-01"
   ]
  },
  {
   "cell_type": "code",
   "execution_count": 7,
   "id": "0b50da31",
   "metadata": {},
   "outputs": [
    {
     "name": "stdout",
     "output_type": "stream",
     "text": [
      "Saved: data\\nse_HDFCBANK_NS_features.csv  | rows=2613 cols=18\n"
     ]
    }
   ],
   "source": [
    "%run prepare_nse_data.py --ticker HDFCBANK.NS --start 2015-01-01 --end 2025-09-01\n"
   ]
  },
  {
   "cell_type": "code",
   "execution_count": 8,
   "id": "e4ec6320",
   "metadata": {},
   "outputs": [
    {
     "name": "stdout",
     "output_type": "stream",
     "text": [
      "Saved models, metrics, and plot.\n",
      "{\n",
      "  \"LinearRegression\": {\n",
      "    \"MAE\": 0.008899247984849425,\n",
      "    \"R2\": -0.015449992185613493\n",
      "  },\n",
      "  \"RandomForest\": {\n",
      "    \"MAE\": 0.019706432612134697,\n",
      "    \"R2\": -3.1945809475079656\n",
      "  }\n",
      "}\n"
     ]
    }
   ],
   "source": [
    "!python train_nse_model.py --data data/nse_HDFCBANK_NS_features.csv --target Target_Return_1d\n"
   ]
  }
 ],
 "metadata": {
  "kernelspec": {
   "display_name": "Python 3",
   "language": "python",
   "name": "python3"
  },
  "language_info": {
   "codemirror_mode": {
    "name": "ipython",
    "version": 3
   },
   "file_extension": ".py",
   "mimetype": "text/x-python",
   "name": "python",
   "nbconvert_exporter": "python",
   "pygments_lexer": "ipython3",
   "version": "3.12.4"
  }
 },
 "nbformat": 4,
 "nbformat_minor": 5
}
